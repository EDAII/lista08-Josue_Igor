{
 "cells": [
  {
   "cell_type": "code",
   "execution_count": 17,
   "metadata": {},
   "outputs": [],
   "source": [
    "import pandas as pd\n",
    "import numpy as np\n",
    "import networkx as nx\n",
    "import matplotlib.pyplot as plt\n",
    "import math\n",
    "% matplotlib inline\n",
    "data = pd.read_csv('MunicipiosBrasil.csv')"
   ]
  },
  {
   "cell_type": "code",
   "execution_count": 18,
   "metadata": {},
   "outputs": [
    {
     "data": {
      "text/html": [
       "<div>\n",
       "<style scoped>\n",
       "    .dataframe tbody tr th:only-of-type {\n",
       "        vertical-align: middle;\n",
       "    }\n",
       "\n",
       "    .dataframe tbody tr th {\n",
       "        vertical-align: top;\n",
       "    }\n",
       "\n",
       "    .dataframe thead th {\n",
       "        text-align: right;\n",
       "    }\n",
       "</style>\n",
       "<table border=\"1\" class=\"dataframe\">\n",
       "  <thead>\n",
       "    <tr style=\"text-align: right;\">\n",
       "      <th></th>\n",
       "      <th>ID</th>\n",
       "      <th>LATITUDE</th>\n",
       "      <th>LONGITUDE</th>\n",
       "      <th>Mun/UF</th>\n",
       "      <th>MUNICIPIO</th>\n",
       "      <th>UF</th>\n",
       "      <th>Valor</th>\n",
       "    </tr>\n",
       "  </thead>\n",
       "  <tbody>\n",
       "    <tr>\n",
       "      <th>0</th>\n",
       "      <td>1</td>\n",
       "      <td>-9.82</td>\n",
       "      <td>-66.88</td>\n",
       "      <td>ACRELANDIA - AC</td>\n",
       "      <td>ACRELANDIA</td>\n",
       "      <td>AC</td>\n",
       "      <td>39560.03891</td>\n",
       "    </tr>\n",
       "    <tr>\n",
       "      <th>1</th>\n",
       "      <td>2</td>\n",
       "      <td>-10.94</td>\n",
       "      <td>-69.56</td>\n",
       "      <td>ASSIS BRASIL - AC</td>\n",
       "      <td>ASSIS BRASIL</td>\n",
       "      <td>AC</td>\n",
       "      <td>17842.15099</td>\n",
       "    </tr>\n",
       "    <tr>\n",
       "      <th>2</th>\n",
       "      <td>3</td>\n",
       "      <td>-11.01</td>\n",
       "      <td>-68.74</td>\n",
       "      <td>BRASILEIA - AC</td>\n",
       "      <td>BRASILEIA</td>\n",
       "      <td>AC</td>\n",
       "      <td>93373.39431</td>\n",
       "    </tr>\n",
       "    <tr>\n",
       "      <th>3</th>\n",
       "      <td>4</td>\n",
       "      <td>-9.83</td>\n",
       "      <td>-67.95</td>\n",
       "      <td>BUJARI - AC</td>\n",
       "      <td>BUJARI</td>\n",
       "      <td>AC</td>\n",
       "      <td>28516.56749</td>\n",
       "    </tr>\n",
       "    <tr>\n",
       "      <th>4</th>\n",
       "      <td>5</td>\n",
       "      <td>-10.57</td>\n",
       "      <td>-67.67</td>\n",
       "      <td>CAPIXABA - AC</td>\n",
       "      <td>CAPIXABA</td>\n",
       "      <td>AC</td>\n",
       "      <td>18886.45514</td>\n",
       "    </tr>\n",
       "  </tbody>\n",
       "</table>\n",
       "</div>"
      ],
      "text/plain": [
       "   ID  LATITUDE  LONGITUDE             Mun/UF     MUNICIPIO  UF        Valor\n",
       "0   1     -9.82     -66.88    ACRELANDIA - AC    ACRELANDIA  AC  39560.03891\n",
       "1   2    -10.94     -69.56  ASSIS BRASIL - AC  ASSIS BRASIL  AC  17842.15099\n",
       "2   3    -11.01     -68.74     BRASILEIA - AC     BRASILEIA  AC  93373.39431\n",
       "3   4     -9.83     -67.95        BUJARI - AC        BUJARI  AC  28516.56749\n",
       "4   5    -10.57     -67.67      CAPIXABA - AC      CAPIXABA  AC  18886.45514"
      ]
     },
     "execution_count": 18,
     "metadata": {},
     "output_type": "execute_result"
    }
   ],
   "source": [
    "data.head()"
   ]
  },
  {
   "cell_type": "code",
   "execution_count": 19,
   "metadata": {},
   "outputs": [
    {
     "data": {
      "text/html": [
       "<div>\n",
       "<style scoped>\n",
       "    .dataframe tbody tr th:only-of-type {\n",
       "        vertical-align: middle;\n",
       "    }\n",
       "\n",
       "    .dataframe tbody tr th {\n",
       "        vertical-align: top;\n",
       "    }\n",
       "\n",
       "    .dataframe thead th {\n",
       "        text-align: right;\n",
       "    }\n",
       "</style>\n",
       "<table border=\"1\" class=\"dataframe\">\n",
       "  <thead>\n",
       "    <tr style=\"text-align: right;\">\n",
       "      <th></th>\n",
       "      <th>ID</th>\n",
       "      <th>LATITUDE</th>\n",
       "      <th>LONGITUDE</th>\n",
       "      <th>Mun/UF</th>\n",
       "      <th>UF</th>\n",
       "      <th>Valor</th>\n",
       "    </tr>\n",
       "    <tr>\n",
       "      <th>MUNICIPIO</th>\n",
       "      <th></th>\n",
       "      <th></th>\n",
       "      <th></th>\n",
       "      <th></th>\n",
       "      <th></th>\n",
       "      <th></th>\n",
       "    </tr>\n",
       "  </thead>\n",
       "  <tbody>\n",
       "    <tr>\n",
       "      <th>ACRELANDIA</th>\n",
       "      <td>1</td>\n",
       "      <td>-9.82</td>\n",
       "      <td>-66.88</td>\n",
       "      <td>ACRELANDIA - AC</td>\n",
       "      <td>AC</td>\n",
       "      <td>39560.03891</td>\n",
       "    </tr>\n",
       "    <tr>\n",
       "      <th>ASSIS BRASIL</th>\n",
       "      <td>2</td>\n",
       "      <td>-10.94</td>\n",
       "      <td>-69.56</td>\n",
       "      <td>ASSIS BRASIL - AC</td>\n",
       "      <td>AC</td>\n",
       "      <td>17842.15099</td>\n",
       "    </tr>\n",
       "    <tr>\n",
       "      <th>BRASILEIA</th>\n",
       "      <td>3</td>\n",
       "      <td>-11.01</td>\n",
       "      <td>-68.74</td>\n",
       "      <td>BRASILEIA - AC</td>\n",
       "      <td>AC</td>\n",
       "      <td>93373.39431</td>\n",
       "    </tr>\n",
       "    <tr>\n",
       "      <th>BUJARI</th>\n",
       "      <td>4</td>\n",
       "      <td>-9.83</td>\n",
       "      <td>-67.95</td>\n",
       "      <td>BUJARI - AC</td>\n",
       "      <td>AC</td>\n",
       "      <td>28516.56749</td>\n",
       "    </tr>\n",
       "    <tr>\n",
       "      <th>CAPIXABA</th>\n",
       "      <td>5</td>\n",
       "      <td>-10.57</td>\n",
       "      <td>-67.67</td>\n",
       "      <td>CAPIXABA - AC</td>\n",
       "      <td>AC</td>\n",
       "      <td>18886.45514</td>\n",
       "    </tr>\n",
       "  </tbody>\n",
       "</table>\n",
       "</div>"
      ],
      "text/plain": [
       "              ID  LATITUDE  LONGITUDE             Mun/UF  UF        Valor\n",
       "MUNICIPIO                                                                \n",
       "ACRELANDIA     1     -9.82     -66.88    ACRELANDIA - AC  AC  39560.03891\n",
       "ASSIS BRASIL   2    -10.94     -69.56  ASSIS BRASIL - AC  AC  17842.15099\n",
       "BRASILEIA      3    -11.01     -68.74     BRASILEIA - AC  AC  93373.39431\n",
       "BUJARI         4     -9.83     -67.95        BUJARI - AC  AC  28516.56749\n",
       "CAPIXABA       5    -10.57     -67.67      CAPIXABA - AC  AC  18886.45514"
      ]
     },
     "execution_count": 19,
     "metadata": {},
     "output_type": "execute_result"
    }
   ],
   "source": [
    "data.set_index([\"MUNICIPIO\"], inplace=True)\n",
    "data.head()"
   ]
  },
  {
   "cell_type": "code",
   "execution_count": 20,
   "metadata": {},
   "outputs": [
    {
     "data": {
      "text/plain": [
       "ID                         1\n",
       "LATITUDE               -9.82\n",
       "LONGITUDE             -66.88\n",
       "Mun/UF       ACRELANDIA - AC\n",
       "UF                        AC\n",
       "Valor                  39560\n",
       "Name: ACRELANDIA, dtype: object"
      ]
     },
     "execution_count": 20,
     "metadata": {},
     "output_type": "execute_result"
    }
   ],
   "source": [
    "data.loc[\"ACRELANDIA\"]"
   ]
  },
  {
   "cell_type": "code",
   "execution_count": 21,
   "metadata": {},
   "outputs": [
    {
     "data": {
      "text/plain": [
       "-66.88"
      ]
     },
     "execution_count": 21,
     "metadata": {},
     "output_type": "execute_result"
    }
   ],
   "source": [
    "data.loc[\"ACRELANDIA\"].LONGITUDE"
   ]
  },
  {
   "cell_type": "code",
   "execution_count": 31,
   "metadata": {},
   "outputs": [],
   "source": [
    "def calc_length(town1, town2):\n",
    "    R = 6371.\n",
    "    x = (town2.LONGITUDE - town1.LONGITUDE) * math.cos((town2.LATITUDE + town1.LATITUDE)/2.)\n",
    "    y = town2.LATITUDE - town1.LATITUDE\n",
    "    return math.sqrt(x**2 + y**2) * R"
   ]
  },
  {
   "cell_type": "code",
   "execution_count": 32,
   "metadata": {},
   "outputs": [
    {
     "data": {
      "text/plain": [
       "123435.94329458081"
      ]
     },
     "execution_count": 32,
     "metadata": {},
     "output_type": "execute_result"
    }
   ],
   "source": [
    "calc_length(data.loc['ACRELANDIA'], data.loc['BRASILIA'])"
   ]
  },
  {
   "cell_type": "code",
   "execution_count": 36,
   "metadata": {},
   "outputs": [
    {
     "data": {
      "text/plain": [
       "ID                     801\n",
       "LATITUDE            -15.78\n",
       "LONGITUDE           -47.93\n",
       "Mun/UF       BRASILIA - DF\n",
       "UF                      DF\n",
       "Valor          1.82195e+06\n",
       "Name: BRASILIA, dtype: object"
      ]
     },
     "execution_count": 36,
     "metadata": {},
     "output_type": "execute_result"
    }
   ],
   "source": [
    "data.loc['BRASILIA']"
   ]
  },
  {
   "cell_type": "code",
   "execution_count": 58,
   "metadata": {},
   "outputs": [],
   "source": [
    "from math import radians, cos, sin, asin, sqrt\n",
    "def haversine2(orig, dest):\n",
    "    \"\"\"\n",
    "    Calculate the great circle distance between two points \n",
    "    on the earth (specified in decimal degrees)\n",
    "    \"\"\"\n",
    "    # convert decimal degrees to radians \n",
    "    orig.LONGITUDE, orig.LATITUDE, dest.LONGITUDE, dest.LATITUDE = map(radians, [orig.LONGITUDE, orig.LATITUDE, dest.LONGITUDE, dest.LATITUDE])\n",
    "\n",
    "    # haversine formula \n",
    "    dlon = dest.LONGITUDE - orig.LONGITUDE \n",
    "    dlat = dest.LATITUDE - orig.LATITUDE \n",
    "    a = sin(dlat/2)**2 + cos(orig.LATITUDE) * cos(dest.LATITUDE) * sin(dlon/2)**2\n",
    "    c = 2 * asin(sqrt(a)) \n",
    "    r = 6371 # Radius of earth in kilometers. Use 3956 for miles\n",
    "    return c * r *1.35"
   ]
  },
  {
   "cell_type": "code",
   "execution_count": 59,
   "metadata": {},
   "outputs": [
    {
     "name": "stderr",
     "output_type": "stream",
     "text": [
      "/home/igor/.local/lib/python3.6/site-packages/pandas/core/generic.py:4405: SettingWithCopyWarning: \n",
      "A value is trying to be set on a copy of a slice from a DataFrame\n",
      "\n",
      "See the caveats in the documentation: http://pandas.pydata.org/pandas-docs/stable/indexing.html#indexing-view-versus-copy\n",
      "  self[name] = value\n"
     ]
    },
    {
     "data": {
      "text/plain": [
       "2912.687050890211"
      ]
     },
     "execution_count": 59,
     "metadata": {},
     "output_type": "execute_result"
    }
   ],
   "source": [
    "haversine2(data.loc['ACRELANDIA'], data.loc['BRASILIA'])"
   ]
  },
  {
   "cell_type": "code",
   "execution_count": 60,
   "metadata": {},
   "outputs": [
    {
     "name": "stderr",
     "output_type": "stream",
     "text": [
      "/home/igor/.local/lib/python3.6/site-packages/pandas/core/generic.py:4405: SettingWithCopyWarning: \n",
      "A value is trying to be set on a copy of a slice from a DataFrame\n",
      "\n",
      "See the caveats in the documentation: http://pandas.pydata.org/pandas-docs/stable/indexing.html#indexing-view-versus-copy\n",
      "  self[name] = value\n"
     ]
    },
    {
     "data": {
      "text/plain": [
       "2133.4924411689212"
      ]
     },
     "execution_count": 60,
     "metadata": {},
     "output_type": "execute_result"
    }
   ],
   "source": [
    "haversine2(data.loc['SOBRAL'], data.loc['BRASILIA'])"
   ]
  },
  {
   "cell_type": "code",
   "execution_count": null,
   "metadata": {},
   "outputs": [],
   "source": []
  }
 ],
 "metadata": {
  "kernelspec": {
   "display_name": "Python 3",
   "language": "python",
   "name": "python3"
  },
  "language_info": {
   "codemirror_mode": {
    "name": "ipython",
    "version": 3
   },
   "file_extension": ".py",
   "mimetype": "text/x-python",
   "name": "python",
   "nbconvert_exporter": "python",
   "pygments_lexer": "ipython3",
   "version": "3.6.5"
  }
 },
 "nbformat": 4,
 "nbformat_minor": 2
}
